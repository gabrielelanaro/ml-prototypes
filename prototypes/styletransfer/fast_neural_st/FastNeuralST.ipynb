{
 "cells": [
  {
   "cell_type": "markdown",
   "metadata": {},
   "source": [
    "### Imports"
   ]
  },
  {
   "cell_type": "code",
   "execution_count": 34,
   "metadata": {
    "ExecuteTime": {
     "end_time": "2019-07-29T20:09:50.085477Z",
     "start_time": "2019-07-29T20:09:50.063132Z"
    }
   },
   "outputs": [],
   "source": [
    "from __future__ import print_function, division\n",
    "import os, mimetypes\n",
    "import torch\n",
    "import pandas as pd\n",
    "import PIL\n",
    "import numpy as np\n",
    "import matplotlib.pyplot as plt\n",
    "from torch.utils.data import Dataset, DataLoader\n",
    "from torchvision import transforms, utils, models\n",
    "from pathlib import Path\n",
    "from random import shuffle\n",
    "from scipy import ndimage\n",
    "from torchsummary import summary\n",
    "import torch.nn as nn\n",
    "\n",
    "imagenet_stats = ([0.485, 0.456, 0.406], [0.229, 0.224, 0.225])\n",
    "path = Path('C:/Users/francesco.pochetti/Downloads/imagenette')"
   ]
  },
  {
   "cell_type": "markdown",
   "metadata": {},
   "source": [
    "### Restructure dataset in convenient way"
   ]
  },
  {
   "cell_type": "code",
   "execution_count": 4,
   "metadata": {
    "ExecuteTime": {
     "end_time": "2019-07-29T19:59:45.962573Z",
     "start_time": "2019-07-29T19:59:45.946531Z"
    }
   },
   "outputs": [],
   "source": [
    "content_path = path/'imagenette-160'"
   ]
  },
  {
   "cell_type": "code",
   "execution_count": 5,
   "metadata": {
    "ExecuteTime": {
     "end_time": "2019-07-29T19:59:45.986790Z",
     "start_time": "2019-07-29T19:59:45.965580Z"
    }
   },
   "outputs": [
    {
     "data": {
      "text/plain": [
       "WindowsPath('C:/Users/francesco.pochetti/Downloads/imagenette/imagenette-160')"
      ]
     },
     "execution_count": 5,
     "metadata": {},
     "output_type": "execute_result"
    }
   ],
   "source": [
    "content_path"
   ]
  },
  {
   "cell_type": "code",
   "execution_count": 6,
   "metadata": {
    "ExecuteTime": {
     "end_time": "2019-07-29T19:59:46.002411Z",
     "start_time": "2019-07-29T19:59:45.988764Z"
    }
   },
   "outputs": [],
   "source": [
    "image_extensions = set(k for k,v in mimetypes.types_map.items() if v.startswith('image/'))"
   ]
  },
  {
   "cell_type": "code",
   "execution_count": 7,
   "metadata": {
    "ExecuteTime": {
     "end_time": "2019-07-29T19:59:46.017947Z",
     "start_time": "2019-07-29T19:59:46.004417Z"
    }
   },
   "outputs": [],
   "source": [
    "def _get_files(p, fs, extensions=None):\n",
    "    p = Path(p)\n",
    "    res = [p/f for f in fs if not f.startswith('.')\n",
    "           and ((not extensions) or f'.{f.split(\".\")[-1].lower()}' in extensions)]\n",
    "    return res\n",
    "                \n",
    "def get_files(path, extensions=None, recurse=False, include=None):\n",
    "    path = Path(path)\n",
    "    extensions = {e.lower() for e in extensions}\n",
    "    if recurse:\n",
    "        res = []\n",
    "        for i,(p,d,f) in enumerate(os.walk(path)): # returns (dirpath, dirnames, filenames)\n",
    "            if include is not None and i==0: d[:] = [o for o in d if o in include]\n",
    "            else:                            d[:] = [o for o in d if not o.startswith('.')]\n",
    "            res += _get_files(p, f, extensions)\n",
    "        return res\n",
    "    else:\n",
    "        f = [o.name for o in os.scandir(path) if o.is_file()]\n",
    "        return _get_files(path, f, extensions)"
   ]
  },
  {
   "cell_type": "code",
   "execution_count": 8,
   "metadata": {
    "ExecuteTime": {
     "end_time": "2019-07-29T19:59:46.585248Z",
     "start_time": "2019-07-29T19:59:46.019952Z"
    }
   },
   "outputs": [],
   "source": [
    "files = get_files(content_path, image_extensions, recurse=True)"
   ]
  },
  {
   "cell_type": "code",
   "execution_count": 9,
   "metadata": {
    "ExecuteTime": {
     "end_time": "2019-07-29T19:59:46.600736Z",
     "start_time": "2019-07-29T19:59:46.587335Z"
    }
   },
   "outputs": [
    {
     "data": {
      "text/plain": [
       "13394"
      ]
     },
     "execution_count": 9,
     "metadata": {},
     "output_type": "execute_result"
    }
   ],
   "source": [
    "len(files)"
   ]
  },
  {
   "cell_type": "code",
   "execution_count": 10,
   "metadata": {
    "ExecuteTime": {
     "end_time": "2019-07-29T19:59:46.612956Z",
     "start_time": "2019-07-29T19:59:46.604747Z"
    }
   },
   "outputs": [
    {
     "data": {
      "text/plain": [
       "WindowsPath('C:/Users/francesco.pochetti/Downloads/imagenette/styles/VanGoghResized.png')"
      ]
     },
     "execution_count": 10,
     "metadata": {},
     "output_type": "execute_result"
    }
   ],
   "source": [
    "van_gogh_path = path/'styles'/'VanGoghResized.png' \n",
    "van_gogh_path"
   ]
  },
  {
   "cell_type": "code",
   "execution_count": 11,
   "metadata": {
    "ExecuteTime": {
     "end_time": "2019-07-29T19:59:46.620978Z",
     "start_time": "2019-07-29T19:59:46.615965Z"
    }
   },
   "outputs": [],
   "source": [
    "contents = files\n",
    "styles = [van_gogh_path] * len(contents)"
   ]
  },
  {
   "cell_type": "code",
   "execution_count": 12,
   "metadata": {
    "ExecuteTime": {
     "end_time": "2019-07-29T19:59:46.652245Z",
     "start_time": "2019-07-29T19:59:46.624986Z"
    }
   },
   "outputs": [
    {
     "name": "stdout",
     "output_type": "stream",
     "text": [
      "2678 10716\n"
     ]
    }
   ],
   "source": [
    "te_ = int(len(styles) * 0.2)\n",
    "tr_ = len(styles) - te_\n",
    "assert(len(styles) == (te_+tr_))\n",
    "print(te_, tr_)\n",
    "\n",
    "splits = ['valid'] * te_ + ['train'] * tr_ \n",
    "shuffle(splits)"
   ]
  },
  {
   "cell_type": "code",
   "execution_count": 13,
   "metadata": {
    "ExecuteTime": {
     "end_time": "2019-07-29T19:59:46.683355Z",
     "start_time": "2019-07-29T19:59:46.655253Z"
    }
   },
   "outputs": [
    {
     "data": {
      "text/html": [
       "<div>\n",
       "<style scoped>\n",
       "    .dataframe tbody tr th:only-of-type {\n",
       "        vertical-align: middle;\n",
       "    }\n",
       "\n",
       "    .dataframe tbody tr th {\n",
       "        vertical-align: top;\n",
       "    }\n",
       "\n",
       "    .dataframe thead th {\n",
       "        text-align: right;\n",
       "    }\n",
       "</style>\n",
       "<table border=\"1\" class=\"dataframe\">\n",
       "  <thead>\n",
       "    <tr style=\"text-align: right;\">\n",
       "      <th></th>\n",
       "      <th>content_</th>\n",
       "      <th>style_</th>\n",
       "      <th>split_</th>\n",
       "    </tr>\n",
       "  </thead>\n",
       "  <tbody>\n",
       "    <tr>\n",
       "      <th>0</th>\n",
       "      <td>C:\\Users\\francesco.pochetti\\Downloads\\imagenet...</td>\n",
       "      <td>C:\\Users\\francesco.pochetti\\Downloads\\imagenet...</td>\n",
       "      <td>train</td>\n",
       "    </tr>\n",
       "    <tr>\n",
       "      <th>1</th>\n",
       "      <td>C:\\Users\\francesco.pochetti\\Downloads\\imagenet...</td>\n",
       "      <td>C:\\Users\\francesco.pochetti\\Downloads\\imagenet...</td>\n",
       "      <td>train</td>\n",
       "    </tr>\n",
       "    <tr>\n",
       "      <th>2</th>\n",
       "      <td>C:\\Users\\francesco.pochetti\\Downloads\\imagenet...</td>\n",
       "      <td>C:\\Users\\francesco.pochetti\\Downloads\\imagenet...</td>\n",
       "      <td>train</td>\n",
       "    </tr>\n",
       "    <tr>\n",
       "      <th>3</th>\n",
       "      <td>C:\\Users\\francesco.pochetti\\Downloads\\imagenet...</td>\n",
       "      <td>C:\\Users\\francesco.pochetti\\Downloads\\imagenet...</td>\n",
       "      <td>train</td>\n",
       "    </tr>\n",
       "    <tr>\n",
       "      <th>4</th>\n",
       "      <td>C:\\Users\\francesco.pochetti\\Downloads\\imagenet...</td>\n",
       "      <td>C:\\Users\\francesco.pochetti\\Downloads\\imagenet...</td>\n",
       "      <td>valid</td>\n",
       "    </tr>\n",
       "  </tbody>\n",
       "</table>\n",
       "</div>"
      ],
      "text/plain": [
       "                                            content_  \\\n",
       "0  C:\\Users\\francesco.pochetti\\Downloads\\imagenet...   \n",
       "1  C:\\Users\\francesco.pochetti\\Downloads\\imagenet...   \n",
       "2  C:\\Users\\francesco.pochetti\\Downloads\\imagenet...   \n",
       "3  C:\\Users\\francesco.pochetti\\Downloads\\imagenet...   \n",
       "4  C:\\Users\\francesco.pochetti\\Downloads\\imagenet...   \n",
       "\n",
       "                                              style_ split_  \n",
       "0  C:\\Users\\francesco.pochetti\\Downloads\\imagenet...  train  \n",
       "1  C:\\Users\\francesco.pochetti\\Downloads\\imagenet...  train  \n",
       "2  C:\\Users\\francesco.pochetti\\Downloads\\imagenet...  train  \n",
       "3  C:\\Users\\francesco.pochetti\\Downloads\\imagenet...  train  \n",
       "4  C:\\Users\\francesco.pochetti\\Downloads\\imagenet...  valid  "
      ]
     },
     "execution_count": 13,
     "metadata": {},
     "output_type": "execute_result"
    }
   ],
   "source": [
    "df = pd.DataFrame({'content_': contents, 'style_': styles, 'split_': splits})\n",
    "df.head()"
   ]
  },
  {
   "cell_type": "code",
   "execution_count": 14,
   "metadata": {
    "ExecuteTime": {
     "end_time": "2019-07-29T19:59:46.772858Z",
     "start_time": "2019-07-29T19:59:46.684324Z"
    }
   },
   "outputs": [
    {
     "data": {
      "image/png": "[encoded data removed]",
      "text/plain": [
       "<PIL.PngImagePlugin.PngImageFile image mode=RGBA size=205x162 at 0x253D564C358>"
      ]
     },
     "execution_count": 14,
     "metadata": {},
     "output_type": "execute_result"
    }
   ],
   "source": [
    "style_img = PIL.Image.open(df.sample().style_.iloc[0]); style_img"
   ]
  },
  {
   "cell_type": "code",
   "execution_count": 15,
   "metadata": {
    "ExecuteTime": {
     "end_time": "2019-07-29T19:59:46.788656Z",
     "start_time": "2019-07-29T19:59:46.776870Z"
    }
   },
   "outputs": [
    {
     "data": {
      "text/plain": [
       "(205, 162, 3)"
      ]
     },
     "execution_count": 15,
     "metadata": {},
     "output_type": "execute_result"
    }
   ],
   "source": [
    "(style_img.size + (3,))"
   ]
  },
  {
   "cell_type": "code",
   "execution_count": 16,
   "metadata": {
    "ExecuteTime": {
     "end_time": "2019-07-29T19:59:46.816779Z",
     "start_time": "2019-07-29T19:59:46.790661Z"
    }
   },
   "outputs": [
    {
     "data": {
      "image/png": "[encoded data removed]",
      "text/plain": [
       "<PIL.JpegImagePlugin.JpegImageFile image mode=RGB size=160x225 at 0x253D5B1E518>"
      ]
     },
     "execution_count": 16,
     "metadata": {},
     "output_type": "execute_result"
    }
   ],
   "source": [
    "content_img = PIL.Image.open(df.sample().content_.iloc[0]); content_img"
   ]
  },
  {
   "cell_type": "code",
   "execution_count": 17,
   "metadata": {
    "ExecuteTime": {
     "end_time": "2019-07-29T19:59:46.957691Z",
     "start_time": "2019-07-29T19:59:46.817749Z"
    }
   },
   "outputs": [],
   "source": [
    "df.to_csv(path/'dataset.csv', index=False)"
   ]
  },
  {
   "cell_type": "markdown",
   "metadata": {},
   "source": [
    "### Prepare the dataset/dataloader"
   ]
  },
  {
   "cell_type": "code",
   "execution_count": 18,
   "metadata": {
    "ExecuteTime": {
     "end_time": "2019-07-29T19:59:46.986572Z",
     "start_time": "2019-07-29T19:59:46.962931Z"
    }
   },
   "outputs": [],
   "source": [
    "class StyleTransferDataset(Dataset):\n",
    "    \"\"\"Style Transfer dataset.\"\"\"\n",
    "\n",
    "    def __init__(self, csv_file, train_test, transform=None):\n",
    "        data = pd.read_csv(csv_file)\n",
    "        self.train_test = train_test\n",
    "        data.loc[:,['content_', 'style_']] = data.loc[:,['content_', 'style_']].applymap(lambda x: Path(x))\n",
    "        self.data = data.loc[data.split_==train_test,:]\n",
    "        self.transform = transform\n",
    "\n",
    "    def __len__(self):\n",
    "        return len(self.data)\n",
    "    \n",
    "    def __repr__(self):\n",
    "        item = self.__getitem__(0)\n",
    "        \n",
    "        _1 = f'{self.train_test.capitalize()} dataset: {len(self.data)} items\\n'\n",
    "        _2 = f'Item: {type(item)} of {len(item)} {type(item[0])}\\n'\n",
    "        _3 = f\"Item example: 'input':{ item[0].shape},'content': {item[1].shape}, 'style': {item[2].shape}\"\n",
    "\n",
    "        return _1+_2+_3\n",
    "    \n",
    "    def __getitem__(self, idx):\n",
    "        if type(idx) == torch.Tensor:\n",
    "            idx = idx.item()\n",
    "        \n",
    "        content_img = self.data.content_.iloc[idx]\n",
    "        content_img = PIL.Image.open(content_img)\n",
    "        \n",
    "        style_img = self.data.style_.iloc[idx]\n",
    "        style_img = PIL.Image.open(style_img)\n",
    "        \n",
    "        opt_img = np.random.uniform(0, 1, size=(content_img.size + (3,))).astype(np.float32)\n",
    "        opt_img = ndimage.filters.median_filter(opt_img, [8,8,1])\n",
    "        \n",
    "        item = {'input': PIL.Image.fromarray(np.uint8(opt_img*255)),\n",
    "                'content': content_img, \n",
    "                'style': style_img}\n",
    "\n",
    "        if self.transform: item = compose(item, self.transform)\n",
    "\n",
    "        return item['input'], item['content'], item['style']"
   ]
  },
  {
   "cell_type": "code",
   "execution_count": 19,
   "metadata": {
    "ExecuteTime": {
     "end_time": "2019-07-29T19:59:47.051312Z",
     "start_time": "2019-07-29T19:59:46.991681Z"
    }
   },
   "outputs": [],
   "source": [
    "def compose(x, funcs, *args, order_key='_order', **kwargs):\n",
    "    key = lambda o: getattr(o, order_key, 0)\n",
    "    for f in sorted(list(funcs), key=key): x = f(x, **kwargs)\n",
    "    return x\n",
    "\n",
    "class Transform(): _order=0\n",
    "        \n",
    "class MakeRGB(Transform):\n",
    "    def __call__(self, item): return {k: v.convert('RGB') for k, v in item.items()}\n",
    "\n",
    "class ResizeFixed(Transform):\n",
    "    _order=10\n",
    "    def __init__(self, size):\n",
    "        if isinstance(size,int): size=(size,size)\n",
    "        self.size = size\n",
    "        \n",
    "    def __call__(self, item): return {k: v.resize(self.size, PIL.Image.BILINEAR) for k, v in item.items()}\n",
    "\n",
    "class ToByteTensor(Transform):\n",
    "    _order=20\n",
    "    def to_byte_tensor(self, item):\n",
    "        res = torch.ByteTensor(torch.ByteStorage.from_buffer(item.tobytes()))\n",
    "        w,h = item.size\n",
    "        return res.view(h,w,-1).permute(2,0,1)\n",
    "    \n",
    "    def __call__(self, item): return {k: self.to_byte_tensor(v) for k, v in item.items()}\n",
    "\n",
    "\n",
    "class ToFloatTensor(Transform):\n",
    "    _order=30\n",
    "    def to_float_tensor(self, item): return item.float().div_(255.)\n",
    "    \n",
    "    def __call__(self, item): return {k: self.to_float_tensor(v) for k, v in item.items()}\n",
    "    \n",
    "class Normalize(Transform):\n",
    "    _order=40\n",
    "    def __init__(self, stats):\n",
    "        self.mean = torch.as_tensor(stats[0] , dtype=torch.float32)\n",
    "        self.std = torch.as_tensor(stats[1] , dtype=torch.float32)\n",
    "    \n",
    "    def normalize(self, item): return item.sub_(self.mean[:, None, None]).div_(self.std[:, None, None])\n",
    "    \n",
    "    def __call__(self, item): return {k: self.normalize(v) for k, v in item.items()}\n",
    "    \n",
    "class DeProcess(Transform):\n",
    "    _order=50\n",
    "    def __init__(self, stats):\n",
    "        self.mean = torch.as_tensor(stats[0] , dtype=torch.float32)\n",
    "        self.std = torch.as_tensor(stats[1] , dtype=torch.float32)\n",
    "    \n",
    "    def de_normalize(self, item): return (item*self.std[:, None, None]+self.mean[:, None, None])*255.\n",
    "    def rearrange_axis(self, item): return np.moveaxis(item, 0, -1)\n",
    "    def to_np(self, item): return np.uint8(np.array(item))\n",
    "    def de_process(self, item): return self.rearrange_axis(self.to_np(self.de_normalize(item)))\n",
    "    \n",
    "    def __call__(self, item): \n",
    "        if isinstance(item, torch.Tensor): return self.de_process(item) \n",
    "        if isinstance(item, tuple): return tuple([self.de_process(v) for v in item])\n",
    "        if isinstance(item, dict): return {k: self.de_process(v) for k, v in item.items()}"
   ]
  },
  {
   "cell_type": "code",
   "execution_count": 25,
   "metadata": {
    "ExecuteTime": {
     "end_time": "2019-07-29T20:02:04.751150Z",
     "start_time": "2019-07-29T20:02:04.738911Z"
    }
   },
   "outputs": [],
   "source": [
    "class Sampler():\n",
    "    def __init__(self, ds, bs, shuffle=False):\n",
    "        self.n,self.bs,self.shuffle = len(ds),bs,shuffle\n",
    "        \n",
    "    def __iter__(self):\n",
    "        self.idxs = torch.randperm(self.n) if self.shuffle else torch.arange(self.n)\n",
    "        for i in range(0, self.n, self.bs): yield self.idxs[i:i+self.bs]\n",
    "            \n",
    "def collate(b):\n",
    "    inputs,contents,styles = zip(*b)\n",
    "    return torch.stack(inputs),torch.stack(contents),torch.stack(styles)\n",
    "\n",
    "class DataLoader():\n",
    "    def __init__(self, ds, sampler, collate_fn=collate):\n",
    "        self.ds,self.sampler,self.collate_fn = ds,sampler,collate_fn\n",
    "        \n",
    "    def __iter__(self):\n",
    "        for s in self.sampler: yield self.collate_fn([self.ds[i] for i in s])"
   ]
  },
  {
   "cell_type": "code",
   "execution_count": 137,
   "metadata": {
    "ExecuteTime": {
     "end_time": "2019-07-30T19:50:43.666353Z",
     "start_time": "2019-07-30T19:50:42.966335Z"
    }
   },
   "outputs": [],
   "source": [
    "rgb = MakeRGB()\n",
    "resized = ResizeFixed(128)\n",
    "tobyte = ToByteTensor()\n",
    "tofloat = ToFloatTensor()\n",
    "norm = Normalize(imagenet_stats)\n",
    "\n",
    "tmfs = [rgb, resized, tobyte, tofloat, norm]\n",
    "\n",
    "train_ds = StyleTransferDataset(path/'dataset.csv', train_test='train', transform=tmfs)\n",
    "valid_ds = StyleTransferDataset(path/'dataset.csv', train_test='valid', transform=tmfs)"
   ]
  },
  {
   "cell_type": "code",
   "execution_count": 138,
   "metadata": {
    "ExecuteTime": {
     "end_time": "2019-07-30T19:50:53.074600Z",
     "start_time": "2019-07-30T19:50:52.958695Z"
    }
   },
   "outputs": [
    {
     "data": {
      "text/plain": [
       "Valid dataset: 2678 items\n",
       "Item: <class 'tuple'> of 3 <class 'torch.Tensor'>\n",
       "Item example: 'input':torch.Size([3, 128, 128]),'content': torch.Size([3, 128, 128]), 'style': torch.Size([3, 128, 128])"
      ]
     },
     "execution_count": 138,
     "metadata": {},
     "output_type": "execute_result"
    }
   ],
   "source": [
    "valid_ds"
   ]
  },
  {
   "cell_type": "code",
   "execution_count": 139,
   "metadata": {
    "ExecuteTime": {
     "end_time": "2019-07-30T19:51:59.413616Z",
     "start_time": "2019-07-30T19:51:59.397993Z"
    }
   },
   "outputs": [],
   "source": [
    "dataloaders = {'train': DataLoader(train_ds, batch_size=64, shuffle=True),\n",
    "              'valid': DataLoader(valid_ds, batch_size=64)}"
   ]
  },
  {
   "cell_type": "code",
   "execution_count": 22,
   "metadata": {
    "ExecuteTime": {
     "end_time": "2019-07-29T20:01:42.800801Z",
     "start_time": "2019-07-29T20:01:42.786684Z"
    }
   },
   "outputs": [],
   "source": [
    "dl = DataLoader(train_ds, batch_size=4, shuffle=True)"
   ]
  },
  {
   "cell_type": "code",
   "execution_count": 26,
   "metadata": {
    "ExecuteTime": {
     "end_time": "2019-07-29T20:02:09.842263Z",
     "start_time": "2019-07-29T20:02:09.828757Z"
    }
   },
   "outputs": [],
   "source": [
    "sampler = Sampler(train_ds,4,True)\n",
    "dl = DataLoader(train_ds,sampler)"
   ]
  },
  {
   "cell_type": "code",
   "execution_count": 27,
   "metadata": {
    "ExecuteTime": {
     "end_time": "2019-07-29T20:02:13.975194Z",
     "start_time": "2019-07-29T20:02:13.101091Z"
    }
   },
   "outputs": [],
   "source": [
    "i,c,s = next(iter(dl))"
   ]
  },
  {
   "cell_type": "code",
   "execution_count": 28,
   "metadata": {
    "ExecuteTime": {
     "end_time": "2019-07-29T20:02:15.754813Z",
     "start_time": "2019-07-29T20:02:15.747092Z"
    }
   },
   "outputs": [
    {
     "data": {
      "text/plain": [
       "(torch.Size([4, 3, 128, 128]),\n",
       " torch.Size([4, 3, 128, 128]),\n",
       " torch.Size([4, 3, 128, 128]))"
      ]
     },
     "execution_count": 28,
     "metadata": {},
     "output_type": "execute_result"
    }
   ],
   "source": [
    "i.shape, c.shape, s.shape"
   ]
  },
  {
   "cell_type": "code",
   "execution_count": 21,
   "metadata": {
    "ExecuteTime": {
     "end_time": "2019-07-29T20:00:16.337480Z",
     "start_time": "2019-07-29T20:00:16.105359Z"
    }
   },
   "outputs": [
    {
     "data": {
      "text/plain": [
       "Train dataset: 10716 items\n",
       "Item: <class 'tuple'> of 3 <class 'torch.Tensor'>\n",
       "Item example: 'input':torch.Size([3, 128, 128]),'content': torch.Size([3, 128, 128]), 'style': torch.Size([3, 128, 128])"
      ]
     },
     "execution_count": 21,
     "metadata": {},
     "output_type": "execute_result"
    }
   ],
   "source": [
    "train_ds"
   ]
  },
  {
   "cell_type": "code",
   "execution_count": 64,
   "metadata": {},
   "outputs": [
    {
     "data": {
      "image/png": "[encoded data removed]",
      "text/plain": [
       "<PIL.Image.Image image mode=RGB size=128x128 at 0x2325C878400>"
      ]
     },
     "execution_count": 64,
     "metadata": {},
     "output_type": "execute_result"
    }
   ],
   "source": [
    "denorm = DeProcess(imagenet_stats)\n",
    "d = denorm(train_ds[0])\n",
    "PIL.Image.fromarray(d[2])"
   ]
  },
  {
   "cell_type": "code",
   "execution_count": 63,
   "metadata": {},
   "outputs": [
    {
     "data": {
      "text/plain": [
       "tuple"
      ]
     },
     "execution_count": 63,
     "metadata": {},
     "output_type": "execute_result"
    }
   ],
   "source": [
    "type(d)"
   ]
  },
  {
   "cell_type": "markdown",
   "metadata": {},
   "source": [
    "### ResNetUnet"
   ]
  },
  {
   "cell_type": "code",
   "execution_count": 63,
   "metadata": {
    "ExecuteTime": {
     "end_time": "2019-07-30T06:06:14.546109Z",
     "start_time": "2019-07-30T06:06:14.535774Z"
    }
   },
   "outputs": [],
   "source": [
    "#unet.base_model.eval()"
   ]
  },
  {
   "cell_type": "code",
   "execution_count": 35,
   "metadata": {
    "ExecuteTime": {
     "end_time": "2019-07-29T20:09:55.096406Z",
     "start_time": "2019-07-29T20:09:55.062314Z"
    }
   },
   "outputs": [],
   "source": [
    "def convrelu(in_channels, out_channels, kernel, padding):\n",
    "    return nn.Sequential(\n",
    "        nn.Conv2d(in_channels, out_channels, kernel, padding=padding),\n",
    "        nn.ReLU(inplace=True),\n",
    "    )\n",
    "\n",
    "class ResNetUNet(nn.Module):\n",
    "    def __init__(self, n_class):\n",
    "        super().__init__()\n",
    "\n",
    "        self.base_model = models.resnet18(pretrained=True)\n",
    "        self.base_layers = list(self.base_model.children())\n",
    "\n",
    "        self.layer0 = nn.Sequential(*self.base_layers[:3]) # size=(N, 64, x.H/2, x.W/2)\n",
    "        self.layer0_1x1 = convrelu(64, 64, 1, 0)\n",
    "        self.layer1 = nn.Sequential(*self.base_layers[3:5]) # size=(N, 64, x.H/4, x.W/4)\n",
    "        self.layer1_1x1 = convrelu(64, 64, 1, 0)\n",
    "        self.layer2 = self.base_layers[5]  # size=(N, 128, x.H/8, x.W/8)\n",
    "        self.layer2_1x1 = convrelu(128, 128, 1, 0)\n",
    "        self.layer3 = self.base_layers[6]  # size=(N, 256, x.H/16, x.W/16)\n",
    "        self.layer3_1x1 = convrelu(256, 256, 1, 0)\n",
    "        self.layer4 = self.base_layers[7]  # size=(N, 512, x.H/32, x.W/32)\n",
    "        self.layer4_1x1 = convrelu(512, 512, 1, 0)\n",
    "\n",
    "        self.upsample = nn.Upsample(scale_factor=2, mode='bilinear', align_corners=True)\n",
    "\n",
    "        self.conv_up3 = convrelu(256 + 512, 512, 3, 1)\n",
    "        self.conv_up2 = convrelu(128 + 512, 256, 3, 1)\n",
    "        self.conv_up1 = convrelu(64 + 256, 256, 3, 1)\n",
    "        self.conv_up0 = convrelu(64 + 256, 128, 3, 1)\n",
    "\n",
    "        self.conv_original_size0 = convrelu(3, 64, 3, 1)\n",
    "        self.conv_original_size1 = convrelu(64, 64, 3, 1)\n",
    "        self.conv_original_size2 = convrelu(64 + 128, 64, 3, 1)\n",
    "\n",
    "        self.conv_last = nn.Conv2d(64, n_class, 1)\n",
    "\n",
    "    def forward(self, input):\n",
    "        x_original = self.conv_original_size0(input)\n",
    "        \n",
    "        x_original = self.conv_original_size1(x_original)\n",
    "\n",
    "        layer0 = self.layer0(input)\n",
    "        layer1 = self.layer1(layer0)\n",
    "        layer2 = self.layer2(layer1)\n",
    "        layer3 = self.layer3(layer2)\n",
    "        layer4 = self.layer4(layer3)\n",
    "\n",
    "        layer4 = self.layer4_1x1(layer4)\n",
    "        x = self.upsample(layer4)\n",
    "        layer3 = self.layer3_1x1(layer3)\n",
    "        x = torch.cat([x, layer3], dim=1)\n",
    "        x = self.conv_up3(x)\n",
    "\n",
    "        x = self.upsample(x)\n",
    "        layer2 = self.layer2_1x1(layer2)\n",
    "        x = torch.cat([x, layer2], dim=1)\n",
    "        x = self.conv_up2(x)\n",
    "\n",
    "        x = self.upsample(x)\n",
    "        layer1 = self.layer1_1x1(layer1)\n",
    "        x = torch.cat([x, layer1], dim=1)\n",
    "        x = self.conv_up1(x)\n",
    "\n",
    "        x = self.upsample(x)\n",
    "        layer0 = self.layer0_1x1(layer0)\n",
    "        x = torch.cat([x, layer0], dim=1)\n",
    "        x = self.conv_up0(x)\n",
    "\n",
    "        x = self.upsample(x)\n",
    "        x = torch.cat([x, x_original], dim=1)\n",
    "        x = self.conv_original_size2(x)\n",
    "\n",
    "        out = self.conv_last(x)\n",
    "\n",
    "        return out"
   ]
  },
  {
   "cell_type": "code",
   "execution_count": 36,
   "metadata": {
    "ExecuteTime": {
     "end_time": "2019-07-29T20:10:26.231100Z",
     "start_time": "2019-07-29T20:10:25.460366Z"
    }
   },
   "outputs": [],
   "source": [
    "unet = ResNetUNet(3)"
   ]
  },
  {
   "cell_type": "code",
   "execution_count": 54,
   "metadata": {
    "ExecuteTime": {
     "end_time": "2019-07-29T20:25:25.060774Z",
     "start_time": "2019-07-29T20:25:23.475482Z"
    }
   },
   "outputs": [],
   "source": [
    "x = unet(i)"
   ]
  },
  {
   "cell_type": "code",
   "execution_count": 56,
   "metadata": {
    "ExecuteTime": {
     "end_time": "2019-07-29T20:25:33.769147Z",
     "start_time": "2019-07-29T20:25:33.760874Z"
    }
   },
   "outputs": [
    {
     "data": {
      "text/plain": [
       "torch.Size([4, 3, 128, 128])"
      ]
     },
     "execution_count": 56,
     "metadata": {},
     "output_type": "execute_result"
    }
   ],
   "source": [
    "i.shape"
   ]
  },
  {
   "cell_type": "code",
   "execution_count": 58,
   "metadata": {
    "ExecuteTime": {
     "end_time": "2019-07-30T05:55:19.619865Z",
     "start_time": "2019-07-30T05:55:19.600760Z"
    }
   },
   "outputs": [
    {
     "data": {
      "text/plain": [
       "(4, 3, 128, 128)"
      ]
     },
     "execution_count": 58,
     "metadata": {},
     "output_type": "execute_result"
    }
   ],
   "source": [
    "b,c,h,w = i.size()\n",
    "b,c,h,w"
   ]
  },
  {
   "cell_type": "code",
   "execution_count": 59,
   "metadata": {
    "ExecuteTime": {
     "end_time": "2019-07-30T05:55:46.326847Z",
     "start_time": "2019-07-30T05:55:46.317468Z"
    }
   },
   "outputs": [
    {
     "data": {
      "text/plain": [
       "torch.Size([12, 16384])"
      ]
     },
     "execution_count": 59,
     "metadata": {},
     "output_type": "execute_result"
    }
   ],
   "source": [
    "i.view(b*c, -1).shape"
   ]
  },
  {
   "cell_type": "code",
   "execution_count": 142,
   "metadata": {
    "ExecuteTime": {
     "end_time": "2019-07-30T20:03:09.281768Z",
     "start_time": "2019-07-30T20:03:09.256202Z"
    }
   },
   "outputs": [],
   "source": [
    "class SaveFeatures():\n",
    "    features=None\n",
    "    \n",
    "    def __init__(self, m): \n",
    "        self.hook = m.register_forward_hook(self.hook_fn)\n",
    "    \n",
    "    def hook_fn(self, module, input, output): \n",
    "        self.features = output\n",
    "    \n",
    "    def close(self): \n",
    "        self.hook.remove()\n",
    "\n",
    "def content_mse(input, target):\n",
    "    return mseloss(input, target)\n",
    "\n",
    "def content_loss(x, target_act, l=None):\n",
    "    model(x)\n",
    "    opt_act = [o.features.clone() for o in activations]\n",
    "    if l is None:\n",
    "        losses = [content_mse(o, s) for o,s in zip(opt_act, target_act)]\n",
    "        return sum(losses)\n",
    "    else:\n",
    "        return content_mse(opt_act[l], target_act[l])\n",
    "\n",
    "def gram(input):\n",
    "    b,c,h,w = input.size()\n",
    "    x = input.view(b*c, -1)\n",
    "    return torch.mm(x, x.t())/input.numel()\n",
    "\n",
    "def gram_mse_loss(input, target): \n",
    "    return mseloss(gram(input), gram(target))\n",
    "\n",
    "def style_loss(x, target_act, l=None):\n",
    "    model(x)\n",
    "    opt_act = [o.features.clone() for o in activations]\n",
    "    if l is None:\n",
    "        losses = [gram_mse_loss(o, s) for o,s in zip(opt_act, target_act)]\n",
    "        return sum(losses)\n",
    "    else:\n",
    "        return gram_mse_loss(opt_act[l], target_act[l])    "
   ]
  },
  {
   "cell_type": "code",
   "execution_count": 94,
   "metadata": {
    "ExecuteTime": {
     "end_time": "2019-07-30T18:23:19.217182Z",
     "start_time": "2019-07-30T18:23:17.989377Z"
    }
   },
   "outputs": [],
   "source": [
    "model = models.vgg16_bn(pretrained=True)\n",
    "model = model.eval()\n",
    "#model.features"
   ]
  },
  {
   "cell_type": "code",
   "execution_count": 91,
   "metadata": {
    "ExecuteTime": {
     "end_time": "2019-07-30T18:20:06.222776Z",
     "start_time": "2019-07-30T18:20:06.217762Z"
    }
   },
   "outputs": [
    {
     "name": "stdout",
     "output_type": "stream",
     "text": [
      "[Conv2d(64, 64, kernel_size=(3, 3), stride=(1, 1), padding=(1, 1))\n",
      " Conv2d(128, 128, kernel_size=(3, 3), stride=(1, 1), padding=(1, 1))\n",
      " Conv2d(256, 256, kernel_size=(3, 3), stride=(1, 1), padding=(1, 1))\n",
      " Conv2d(512, 512, kernel_size=(3, 3), stride=(1, 1), padding=(1, 1))\n",
      " Conv2d(512, 512, kernel_size=(3, 3), stride=(1, 1), padding=(1, 1))]\n"
     ]
    }
   ],
   "source": [
    "convs = [i-3 for i,o in enumerate(list(model.features)) if isinstance(o,nn.MaxPool2d)]\n",
    "print(np.array(list(model.features))[convs])"
   ]
  },
  {
   "cell_type": "code",
   "execution_count": 110,
   "metadata": {
    "ExecuteTime": {
     "end_time": "2019-07-30T18:35:23.981003Z",
     "start_time": "2019-07-30T18:35:23.771982Z"
    }
   },
   "outputs": [],
   "source": [
    "input = train_ds[0][0][None]\n",
    "original_t = train_ds[0][1]\n",
    "style_t = train_ds[0][2]"
   ]
  },
  {
   "cell_type": "code",
   "execution_count": 97,
   "metadata": {
    "ExecuteTime": {
     "end_time": "2019-07-30T18:25:27.531738Z",
     "start_time": "2019-07-30T18:25:27.521183Z"
    }
   },
   "outputs": [],
   "source": [
    "activations = [SaveFeatures(list(model.features)[idx]) for idx in convs]"
   ]
  },
  {
   "cell_type": "code",
   "execution_count": 99,
   "metadata": {
    "ExecuteTime": {
     "end_time": "2019-07-30T18:25:36.926307Z",
     "start_time": "2019-07-30T18:25:36.264049Z"
    }
   },
   "outputs": [],
   "source": [
    "model(original_t[None])\n",
    "target_cont = [o.features.clone() for o in activations]\n",
    "\n",
    "model(style_t[None])\n",
    "target_style = [o.features.clone() for o in activations]"
   ]
  },
  {
   "cell_type": "code",
   "execution_count": 103,
   "metadata": {
    "ExecuteTime": {
     "end_time": "2019-07-30T18:30:25.580415Z",
     "start_time": "2019-07-30T18:30:25.560861Z"
    }
   },
   "outputs": [
    {
     "data": {
      "text/plain": [
       "[torch.Size([1, 64, 128, 128]),\n",
       " torch.Size([1, 128, 64, 64]),\n",
       " torch.Size([1, 256, 32, 32]),\n",
       " torch.Size([1, 512, 16, 16]),\n",
       " torch.Size([1, 512, 8, 8])]"
      ]
     },
     "execution_count": 103,
     "metadata": {},
     "output_type": "execute_result"
    }
   ],
   "source": [
    "[t.shape for t in target_style]"
   ]
  },
  {
   "cell_type": "code",
   "execution_count": 124,
   "metadata": {
    "ExecuteTime": {
     "end_time": "2019-07-30T18:53:13.683289Z",
     "start_time": "2019-07-30T18:53:13.676271Z"
    }
   },
   "outputs": [],
   "source": [
    "mseloss = nn.MSELoss()"
   ]
  },
  {
   "cell_type": "code",
   "execution_count": 132,
   "metadata": {
    "ExecuteTime": {
     "end_time": "2019-07-30T18:58:59.746755Z",
     "start_time": "2019-07-30T18:58:59.383472Z"
    }
   },
   "outputs": [
    {
     "data": {
      "text/plain": [
       "tensor(0.7885, grad_fn=<AddBackward0>)"
      ]
     },
     "execution_count": 132,
     "metadata": {},
     "output_type": "execute_result"
    }
   ],
   "source": [
    "content_loss(input, target_cont)"
   ]
  },
  {
   "cell_type": "code",
   "execution_count": 133,
   "metadata": {
    "ExecuteTime": {
     "end_time": "2019-07-30T18:59:02.134058Z",
     "start_time": "2019-07-30T18:59:01.777703Z"
    }
   },
   "outputs": [
    {
     "data": {
      "text/plain": [
       "tensor(2.5175e-06, grad_fn=<AddBackward0>)"
      ]
     },
     "execution_count": 133,
     "metadata": {},
     "output_type": "execute_result"
    }
   ],
   "source": [
    "style_loss(input, target_style)"
   ]
  },
  {
   "cell_type": "code",
   "execution_count": 131,
   "metadata": {
    "ExecuteTime": {
     "end_time": "2019-07-30T18:58:53.275538Z",
     "start_time": "2019-07-30T18:58:52.883481Z"
    }
   },
   "outputs": [
    {
     "data": {
      "text/plain": [
       "tensor(0.3942, grad_fn=<AddBackward0>)"
      ]
     },
     "execution_count": 131,
     "metadata": {},
     "output_type": "execute_result"
    }
   ],
   "source": [
    "combined_loss(input, target_style, target_cont)"
   ]
  },
  {
   "cell_type": "code",
   "execution_count": 64,
   "metadata": {
    "ExecuteTime": {
     "end_time": "2019-07-30T17:59:12.298065Z",
     "start_time": "2019-07-30T17:59:12.266608Z"
    }
   },
   "outputs": [],
   "source": [
    "#summary(unet, input_size=(3, 128, 128))"
   ]
  },
  {
   "cell_type": "code",
   "execution_count": 136,
   "metadata": {
    "ExecuteTime": {
     "end_time": "2019-07-30T19:49:14.449576Z",
     "start_time": "2019-07-30T19:49:14.447601Z"
    }
   },
   "outputs": [],
   "source": [
    "import time\n",
    "import torch.optim as optim\n",
    "from torch.optim import lr_scheduler"
   ]
  },
  {
   "cell_type": "code",
   "execution_count": 141,
   "metadata": {
    "ExecuteTime": {
     "end_time": "2019-07-30T19:53:36.729576Z",
     "start_time": "2019-07-30T19:53:30.498606Z"
    }
   },
   "outputs": [
    {
     "name": "stdout",
     "output_type": "stream",
     "text": [
      "torch.Size([64, 3, 128, 128]) torch.Size([64, 3, 128, 128]) torch.Size([64, 3, 128, 128])\n"
     ]
    }
   ],
   "source": [
    "for i,c,s in dataloaders['train']:\n",
    "    print(i.shape, c.shape, s.shape)\n",
    "    break"
   ]
  },
  {
   "cell_type": "code",
   "execution_count": 143,
   "metadata": {
    "ExecuteTime": {
     "end_time": "2019-07-30T20:03:54.111544Z",
     "start_time": "2019-07-30T20:03:54.096043Z"
    }
   },
   "outputs": [],
   "source": [
    "def combined_loss(opt_cat, target_style, target_cont, lam=0.5):\n",
    "    style_losses = [gram_mse_loss(o, s) for o,s in zip(opt_act, target_style)]\n",
    "    #content_losses = [content_mse(opt_act[2], target_cont[2])/1e3]\n",
    "    content_losses = [content_mse(o, s) for o,s in zip(opt_act, target_cont)]\n",
    "    style = sum(style_losses)\n",
    "    content = sum(content_losses)\n",
    "    return (1-lam)*content + lam*style"
   ]
  },
  {
   "cell_type": "code",
   "execution_count": null,
   "metadata": {},
   "outputs": [],
   "source": [
    "#def train_model(model, optimizer, scheduler, num_epochs=25):\n",
    "num_epochs = 1\n",
    "best_model_wts = copy.deepcopy(model.state_dict())\n",
    "best_loss = 1e10\n",
    "model = unet\n",
    "\n",
    "    model(x)\n",
    "    opt_act = [o.features.clone() for o in activations]\n",
    "\n",
    "for epoch in range(num_epochs):\n",
    "    print('Epoch {}/{}'.format(epoch, num_epochs - 1))\n",
    "    print('-' * 10)\n",
    "\n",
    "    since = time.time()\n",
    "\n",
    "    # Each epoch has a training and validation phase\n",
    "    for phase in ['train', 'valid']:\n",
    "        if phase == 'train':\n",
    "            scheduler.step()\n",
    "            for param_group in optimizer.param_groups:\n",
    "                print(\"LR\", param_group['lr'])\n",
    "\n",
    "            model.train()  # Set model to training mode\n",
    "        else:\n",
    "            model.eval()   # Set model to evaluate mode\n",
    "\n",
    "        metrics = defaultdict(float)\n",
    "        epoch_samples = 0\n",
    "\n",
    "        for inputs, contents, styles in dataloaders[phase]:\n",
    "            inputs = inputs.to(device)\n",
    "            contents = contents.to(device)\n",
    "            styles = styles.to(device)\n",
    "            \n",
    "            vgg(contents[None])\n",
    "            target_cont = [o.features.clone() for o in activations]\n",
    "\n",
    "            vgg(styles[None])\n",
    "            target_style = [o.features.clone() for o in activations]\n",
    "\n",
    "            # zero the parameter gradients\n",
    "            optimizer.zero_grad()\n",
    "\n",
    "            # forward\n",
    "            # track history if only in train\n",
    "            with torch.set_grad_enabled(phase == 'train'):\n",
    "                outputs = model(inputs)\n",
    "                \n",
    "                vgg(outputs[None])\n",
    "                opt_act = [o.features.clone() for o in activations]\n",
    "                \n",
    "                loss = combined_loss(opt_cat, target_style, target_cont)\n",
    "                #loss = calc_loss(outputs, labels, metrics)\n",
    "\n",
    "                # backward + optimize only if in training phase\n",
    "                if phase == 'train':\n",
    "                    loss.backward()\n",
    "                    optimizer.step()\n",
    "\n",
    "            # statistics\n",
    "            epoch_samples += inputs.size(0)\n",
    "\n",
    "        print_metrics(metrics, epoch_samples, phase)\n",
    "        epoch_loss = metrics['loss'] / epoch_samples\n",
    "\n",
    "        # deep copy the model\n",
    "        if phase == 'val' and epoch_loss < best_loss:\n",
    "            print(\"saving best model\")\n",
    "            best_loss = epoch_loss\n",
    "            best_model_wts = copy.deepcopy(model.state_dict())\n",
    "\n",
    "    time_elapsed = time.time() - since\n",
    "    print('{:.0f}m {:.0f}s'.format(time_elapsed // 60, time_elapsed % 60))\n",
    "\n",
    "print('Best val loss: {:4f}'.format(best_loss))\n",
    "\n",
    "# load best model weights\n",
    "model.load_state_dict(best_model_wts)\n",
    "return model"
   ]
  }
 ],
 "metadata": {
  "kernelspec": {
   "display_name": "Python [conda env:fastai]",
   "language": "python",
   "name": "conda-env-fastai-py"
  },
  "language_info": {
   "codemirror_mode": {
    "name": "ipython",
    "version": 3
   },
   "file_extension": ".py",
   "mimetype": "text/x-python",
   "name": "python",
   "nbconvert_exporter": "python",
   "pygments_lexer": "ipython3",
   "version": "3.7.3"
  }
 },
 "nbformat": 4,
 "nbformat_minor": 2
}
